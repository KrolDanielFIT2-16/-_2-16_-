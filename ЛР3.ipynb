{
  "nbformat": 4,
  "nbformat_minor": 0,
  "metadata": {
    "colab": {
      "provenance": []
    },
    "kernelspec": {
      "name": "python3",
      "display_name": "Python 3"
    },
    "language_info": {
      "name": "python"
    }
  },
  "cells": [
    {
      "cell_type": "code",
      "execution_count": null,
      "metadata": {
        "id": "DOk-m0jAFOl6"
      },
      "outputs": [],
      "source": [
        "!pip install numdifftools"
      ]
    },
    {
      "cell_type": "markdown",
      "source": [
        "#Кроль Данило\n",
        "###ФІТ 2-16\n",
        "###Варіант 10"
      ],
      "metadata": {
        "id": "WiVw_tIQF3xx"
      }
    },
    {
      "cell_type": "markdown",
      "source": [
        "Відокремлення коренів:"
      ],
      "metadata": {
        "id": "Fl-TWt6eFbqT"
      }
    },
    {
      "cell_type": "code",
      "source": [
        "import numdifftools as nd\n",
        "import math\n",
        "\n",
        "def f(x):\n",
        "    return x**4 - 108*x + 7\n",
        "\n",
        "a = None\n",
        "prev_x = None\n",
        "segments = []\n",
        "\n",
        "for x in range(-10, 10):\n",
        "    curr_x = f(x)\n",
        "    if prev_x is not None and prev_x * curr_x < 0:\n",
        "        segments.append((a, x))\n",
        "    a = x\n",
        "    prev_x = curr_x\n",
        "\n",
        "print(segments)"
      ],
      "metadata": {
        "colab": {
          "base_uri": "https://localhost:8080/"
        },
        "id": "em2P4w2rFdDj",
        "outputId": "5dd31513-8840-4d19-8299-a1b824da4ea4"
      },
      "execution_count": null,
      "outputs": [
        {
          "output_type": "stream",
          "name": "stdout",
          "text": [
            "[(0, 1), (4, 5)]\n"
          ]
        }
      ]
    },
    {
      "cell_type": "markdown",
      "source": [
        "Метод Ньютона:"
      ],
      "metadata": {
        "id": "irWmqdb2FfGb"
      }
    },
    {
      "cell_type": "code",
      "source": [
        "eps =  0.0001\n",
        "\n",
        "for a, b in segments:\n",
        "    print(f\"[{a}, {b}]\")\n",
        "    df2 = nd.Derivative(f, n=2)(b)\n",
        "    if f(b) * df2 > 0:\n",
        "        xi = b\n",
        "    else:\n",
        "        xi = a\n",
        "    df = nd.Derivative(f, n=1)(xi)\n",
        "    xi_1 = xi - f(xi) / df\n",
        "    while math.fabs(xi_1 - xi) > eps:\n",
        "        xi = xi_1\n",
        "        xi_1 = xi - f(xi)/df\n",
        "    print(f\"x = {xi_1}\")\n"
      ],
      "metadata": {
        "colab": {
          "base_uri": "https://localhost:8080/"
        },
        "id": "qe__OyMyFezw",
        "outputId": "c50e34a4-2db9-44b6-f8a5-050ce7d79a3f"
      },
      "execution_count": null,
      "outputs": [
        {
          "output_type": "stream",
          "name": "stdout",
          "text": [
            "[0, 1]\n",
            "x = 0.06481497822284042\n",
            "[4, 5]\n",
            "x = 4.7404047710813195\n"
          ]
        }
      ]
    },
    {
      "cell_type": "markdown",
      "source": [
        "Комбінований метод:"
      ],
      "metadata": {
        "id": "rZZd9VkaFiIB"
      }
    },
    {
      "cell_type": "code",
      "source": [
        "df1 = nd.Derivative(f, n=1)\n",
        "for a, b in segments:\n",
        "    print(f\"[{a}, {b}]\")\n",
        "    if df1(a) * nd.Derivative(f, n=2)(a) > 0:\n",
        "        a0 = a\n",
        "        b0 = b\n",
        "    else:\n",
        "        a0 = b\n",
        "        b0 = a\n",
        "    ai = a0\n",
        "    bi = b0\n",
        "    while math.fabs(ai - bi) > eps:\n",
        "        ai_1 = ai - f(ai) * (bi - ai) / (f(bi) - f(ai))\n",
        "        bi_1 = bi - f(bi) / df1(bi)\n",
        "        ai = ai_1\n",
        "        bi = bi_1\n",
        "    x = (ai_1 + bi_1) / 2\n",
        "    print(f\"x = {x}\")"
      ],
      "metadata": {
        "colab": {
          "base_uri": "https://localhost:8080/"
        },
        "id": "a9ZWjkERFlya",
        "outputId": "0a903e69-419c-41a3-8bda-e1b37447427e"
      },
      "execution_count": null,
      "outputs": [
        {
          "output_type": "stream",
          "name": "stdout",
          "text": [
            "[0, 1]\n",
            "x = 0.06481497822449997\n",
            "[4, 5]\n",
            "x = 4.740399124296889\n"
          ]
        }
      ]
    }
  ]
}