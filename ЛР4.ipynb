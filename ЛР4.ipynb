{
  "nbformat": 4,
  "nbformat_minor": 0,
  "metadata": {
    "colab": {
      "provenance": []
    },
    "kernelspec": {
      "name": "python3",
      "display_name": "Python 3"
    },
    "language_info": {
      "name": "python"
    }
  },
  "cells": [
    {
      "cell_type": "markdown",
      "source": [
        "#Кроль Данило\n",
        "##ФІТ 2-16\n",
        "##Варіант 10\n"
      ],
      "metadata": {
        "id": "LcnfY-ljVmt-"
      }
    },
    {
      "cell_type": "code",
      "execution_count": null,
      "metadata": {
        "colab": {
          "base_uri": "https://localhost:8080/"
        },
        "id": "HdLfXi3dITrB",
        "outputId": "e1f6c03c-f7cd-4987-e6c5-b37c491c73b9"
      },
      "outputs": [
        {
          "output_type": "stream",
          "name": "stdout",
          "text": [
            "[[ 4 -8]\n",
            " [12 -4]]\n"
          ]
        }
      ],
      "source": [
        "import numpy as np\n",
        "\n",
        "#1.1.1\n",
        "A = np.matrix(([1,  2],\n",
        "               [4, -1]))\n",
        "\n",
        "B = np.matrix(([ 2, -3],\n",
        "               [-4,  1]))\n",
        "\n",
        "C = np.dot(A, B) - np.dot(B, A)\n",
        "print(C)"
      ]
    },
    {
      "cell_type": "code",
      "source": [
        "# 1.2.1\n",
        "\n",
        "A = np.matrix(([-1, 2],\n",
        "               [ 0, 1]))\n",
        "\n",
        "print(np.dot(A, A))"
      ],
      "metadata": {
        "colab": {
          "base_uri": "https://localhost:8080/"
        },
        "id": "30cwL_hvJr8F",
        "outputId": "2abe7bc6-9949-46fc-c8e2-8de8cd4f8fbc"
      },
      "execution_count": null,
      "outputs": [
        {
          "output_type": "stream",
          "name": "stdout",
          "text": [
            "[[1 0]\n",
            " [0 1]]\n"
          ]
        }
      ]
    },
    {
      "cell_type": "code",
      "source": [
        "# 1.3.1\n",
        "\n",
        "A = np.matrix(([3,  5],\n",
        "               [6, -1]))\n",
        "\n",
        "B = np.matrix(([2,  1],\n",
        "               [-3, 2]))\n",
        "\n",
        "print(np.dot(A, B))"
      ],
      "metadata": {
        "colab": {
          "base_uri": "https://localhost:8080/"
        },
        "id": "SCJuDqreKEkF",
        "outputId": "190f82ff-746f-4251-feb9-dbe8e60cfbd7"
      },
      "execution_count": null,
      "outputs": [
        {
          "output_type": "stream",
          "name": "stdout",
          "text": [
            "[[-9 13]\n",
            " [15  4]]\n"
          ]
        }
      ]
    },
    {
      "cell_type": "code",
      "source": [
        "# 1.4.5\n",
        "\n",
        "A = np.matrix(([1, 5, -5],\n",
        "               [4, 0, 3],\n",
        "               [2, -10, 3]))\n",
        "print(np.linalg.det(A))"
      ],
      "metadata": {
        "colab": {
          "base_uri": "https://localhost:8080/"
        },
        "id": "IkLHhIQlKiy3",
        "outputId": "67e08571-f9d0-4390-ac9d-d0ed0f51d56a"
      },
      "execution_count": null,
      "outputs": [
        {
          "output_type": "stream",
          "name": "stdout",
          "text": [
            "200.0000000000001\n"
          ]
        }
      ]
    },
    {
      "cell_type": "code",
      "source": [
        "# 1.5.2\n",
        "\n",
        "A = np.matrix(([2, 3, 4, 1],\n",
        "               [1, 2, 3, 4],\n",
        "               [3, 4, 1, 2],\n",
        "               [4, 1, 2, 3]))\n",
        "print(np.linalg.det(A))"
      ],
      "metadata": {
        "colab": {
          "base_uri": "https://localhost:8080/"
        },
        "id": "iWbALD-uLGUj",
        "outputId": "5381138a-7703-4b5a-e419-39137c6ef5c1"
      },
      "execution_count": null,
      "outputs": [
        {
          "output_type": "stream",
          "name": "stdout",
          "text": [
            "-160.00000000000009\n"
          ]
        }
      ]
    },
    {
      "cell_type": "code",
      "source": [
        "# 1.6.2\n",
        "\n",
        "A = np.matrix(([2,  5,  7],\n",
        "               [6,  3,  4],\n",
        "               [5, -2, -3]))\n",
        "print(np.linalg.inv(A))"
      ],
      "metadata": {
        "colab": {
          "base_uri": "https://localhost:8080/"
        },
        "id": "t1Bcpm-TLhVz",
        "outputId": "9b58704a-71b6-4c64-9f05-f6baf25a09e0"
      },
      "execution_count": null,
      "outputs": [
        {
          "output_type": "stream",
          "name": "stdout",
          "text": [
            "[[  1.  -1.   1.]\n",
            " [-38.  41. -34.]\n",
            " [ 27. -29.  24.]]\n"
          ]
        }
      ]
    },
    {
      "cell_type": "code",
      "source": [
        "# 1.7.3\n",
        "\n",
        "A = np.matrix(([-2, 3, 1, -1],\n",
        "               [ 3, 2, 1,  4],\n",
        "               [ 1, 2, 3,  4],\n",
        "               [ 0, 2, 3,  3]))\n",
        "\n",
        "print(np.linalg.matrix_rank(A))\n"
      ],
      "metadata": {
        "colab": {
          "base_uri": "https://localhost:8080/"
        },
        "id": "omYvKK4wL6mR",
        "outputId": "832b5464-5a1f-4a8c-eb74-0f9141626660"
      },
      "execution_count": null,
      "outputs": [
        {
          "output_type": "stream",
          "name": "stdout",
          "text": [
            "3\n"
          ]
        }
      ]
    },
    {
      "cell_type": "code",
      "source": [
        "# 1.8.10\n",
        "\n",
        "A = np.matrix(([3,  2, 1],\n",
        "               [2, -1, 1],\n",
        "               [1,  5, 0]))\n",
        "\n",
        "B = np.array([5, 6, -3])\n",
        "\n",
        "# Матричний метод\n",
        "inv = np.linalg.inv(A)\n",
        "ma = np.dot(inv, B)\n",
        "print(f\"Матричний метод:\\n{ma}\")\n",
        "\n",
        "# Метод Крамера\n",
        "det_c = np.linalg.det(A)\n",
        "ans = []\n",
        "for i in range(len(A)):\n",
        "  Ac = np.copy(A)\n",
        "  Ac[:, i] = B\n",
        "  ans.append(round(np.linalg.det(Ac) / det_c, 1))\n",
        "print(f\"\\nМетод Крамера:\\n{ans}\")\n",
        "\n",
        "# Метод Гауса\n",
        "Bc = np.copy(B).astype(float)\n",
        "Ac = np.copy(A).astype(float)\n",
        "\n",
        "reshaped_b = Bc.reshape((len(Bc), 1))\n",
        "Ac = np.hstack((Ac, reshaped_b))\n",
        "\n",
        "for i in range(len(Ac)):\n",
        "  for j in range(i + 1, len(Ac)):\n",
        "    Ac[j] -= Ac[i] * Ac[j][i] / Ac[i][i]\n",
        "\n",
        "x = np.zeros(len(Bc))\n",
        "\n",
        "i = len(Ac) - 1\n",
        "while i >= 0:\n",
        "    x[i] = (Ac[i][-1] - sum(x * Ac[i][0:-1])) / Ac[i][i]\n",
        "    i -= 1\n",
        "\n",
        "print(f\"\\nМетод Гауса:\\n{x}\")"
      ],
      "metadata": {
        "colab": {
          "base_uri": "https://localhost:8080/"
        },
        "id": "h0t7u1pmNALX",
        "outputId": "40a84a10-f476-4c91-ab87-c0d9e3d880d8"
      },
      "execution_count": null,
      "outputs": [
        {
          "output_type": "stream",
          "name": "stdout",
          "text": [
            "Матричний метод:\n",
            "[[ 2. -1.  1.]]\n",
            "\n",
            "Метод Крамера:\n",
            "[2.0, -1.0, 1.0]\n",
            "\n",
            "Метод Гауса:\n",
            "[ 2. -1.  1.]\n"
          ]
        }
      ]
    },
    {
      "cell_type": "code",
      "source": [
        "# 2.2\n",
        "import random\n",
        "\n",
        "def gen_array(n, m):\n",
        "  ret = []\n",
        "  for i in range(n):\n",
        "    tmp = random.sample(range(-10, 10), m)\n",
        "    ret.append(tmp)\n",
        "  return ret\n",
        "\n",
        "N = 5\n",
        "M = 10\n",
        "\n",
        "A = np.matrix((gen_array(N, M)))\n",
        "print(A)\n",
        "\n",
        "avg = []\n",
        "for i in range(N):\n",
        "  avg.append(np.sum(A[i])/M)\n",
        "print(f\"{avg=}\")\n",
        "print(f\"{min(avg)=}\")\n"
      ],
      "metadata": {
        "colab": {
          "base_uri": "https://localhost:8080/"
        },
        "id": "R4zIL7n7Tijn",
        "outputId": "8ef7bfec-5108-49a2-9e0b-e156fc917318"
      },
      "execution_count": null,
      "outputs": [
        {
          "output_type": "stream",
          "name": "stdout",
          "text": [
            "[[  6  -7  -2   2   8   4   9 -10   0   7]\n",
            " [  4  -9 -10  -7   3   7  -2  -3   2  -5]\n",
            " [ -7  -2   1   3  -3  -4  -6  -9   5  -1]\n",
            " [  9  -9  -1   4  -2   6  -6   0  -3   8]\n",
            " [  9  -8   5   0   3   4   6   2  -6  -4]]\n",
            "avg=[1.7, -2.0, -2.3, 0.6, 1.1]\n",
            "min(avg)=-2.3\n"
          ]
        }
      ]
    }
  ]
}